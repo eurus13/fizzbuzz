{
  "nbformat": 4,
  "nbformat_minor": 0,
  "metadata": {
    "colab": {
      "name": "fizzbuzz",
      "version": "0.3.2",
      "provenance": []
    },
    "kernelspec": {
      "name": "python3",
      "display_name": "Python 3"
    }
  },
  "cells": [
    {
      "cell_type": "code",
      "metadata": {
        "id": "Fr-YUXWsx7T9",
        "colab_type": "code",
        "colab": {}
      },
      "source": [
        "# Write a program that prints the numbers from 1 to 100. \n",
        "# But for multiples of three print “Fizz” instead of the number\n",
        "# and for the multiples of five print “Buzz”. \n",
        "# For numbers which are multiples of both three and five print “FizzBuzz\"\n"
      ],
      "execution_count": 0,
      "outputs": []
    },
    {
      "cell_type": "code",
      "metadata": {
        "id": "uCX6hzPsyotQ",
        "colab_type": "code",
        "colab": {
          "base_uri": "https://localhost:8080/",
          "height": 54
        },
        "outputId": "cd83994e-cf17-4870-afa4-449ba094586a"
      },
      "source": [
        "# Ver.1\n",
        "#This is an intentionally more complex, but condensed -for kicks- solution I  \n",
        "#came up with because fizzbuzz should have some excitement to it, right?!\n",
        "#It takes advantage of the python3 and conditional expressions\n",
        "\n",
        "fizz = 'fizz'\n",
        "buzz = 'buzz'\n",
        "  \n",
        "numbers = list(range(1,101))\n",
        "\n",
        "print([fizz+buzz if i%3 == 0 and i%5 == 0 else buzz if i%5 == 0 else fizz if i%3 == 0 else i for i in numbers])\n",
        "\n",
        "\n",
        "# just playing around with alternative ways to generate numbers\n",
        "# def number_generator(length):\n",
        "#   n=0\n",
        "#   while n < (length+1):\n",
        "#     yield n\n",
        "#     n += 1"
      ],
      "execution_count": 1,
      "outputs": [
        {
          "output_type": "stream",
          "text": [
            "[1, 2, 'fizz', 4, 'buzz', 'fizz', 7, 8, 'fizz', 'buzz', 11, 'fizz', 13, 14, 'fizzbuzz', 16, 17, 'fizz', 19, 'buzz', 'fizz', 22, 23, 'fizz', 'buzz', 26, 'fizz', 28, 29, 'fizzbuzz', 31, 32, 'fizz', 34, 'buzz', 'fizz', 37, 38, 'fizz', 'buzz', 41, 'fizz', 43, 44, 'fizzbuzz', 46, 47, 'fizz', 49, 'buzz', 'fizz', 52, 53, 'fizz', 'buzz', 56, 'fizz', 58, 59, 'fizzbuzz', 61, 62, 'fizz', 64, 'buzz', 'fizz', 67, 68, 'fizz', 'buzz', 71, 'fizz', 73, 74, 'fizzbuzz', 76, 77, 'fizz', 79, 'buzz', 'fizz', 82, 83, 'fizz', 'buzz', 86, 'fizz', 88, 89, 'fizzbuzz', 91, 92, 'fizz', 94, 'buzz', 'fizz', 97, 98, 'fizz', 'buzz']\n"
          ],
          "name": "stdout"
        }
      ]
    },
    {
      "cell_type": "code",
      "metadata": {
        "id": "U3oxY5hmx-vp",
        "colab_type": "code",
        "colab": {
          "base_uri": "https://localhost:8080/",
          "height": 1754
        },
        "outputId": "383c7d8d-07f4-49fd-ccc3-0d6c0bc61114"
      },
      "source": [
        "# VER.2\n",
        "\n",
        "# This is a simple pythonic solution.\n",
        "# I also included the original number \n",
        "#that repsective string is to replace for easy reading\n",
        "\n",
        "\n",
        "\n",
        "numbers = list(range(1,101))\n",
        "# fizzbuzz_3check5 = []\n",
        "for i in numbers:\n",
        "  if i % 3 == 0:\n",
        "    if i % 5 == 0:\n",
        "      print('Fizzbuzz',i)\n",
        "#       fizzbuzz_3check5.append(i)\n",
        "    else:\n",
        "      print('Fizz',i)\n",
        "    \n",
        "  elif i % 5 == 0:\n",
        "    print('Buzz')\n",
        "  else:\n",
        "    print(i)\n",
        "\n",
        "\n",
        "# print(fizzbuzz_3check5)"
      ],
      "execution_count": 2,
      "outputs": [
        {
          "output_type": "stream",
          "text": [
            "1\n",
            "2\n",
            "Fizz 3\n",
            "4\n",
            "Buzz\n",
            "Fizz 6\n",
            "7\n",
            "8\n",
            "Fizz 9\n",
            "Buzz\n",
            "11\n",
            "Fizz 12\n",
            "13\n",
            "14\n",
            "Fizzbuzz 15\n",
            "16\n",
            "17\n",
            "Fizz 18\n",
            "19\n",
            "Buzz\n",
            "Fizz 21\n",
            "22\n",
            "23\n",
            "Fizz 24\n",
            "Buzz\n",
            "26\n",
            "Fizz 27\n",
            "28\n",
            "29\n",
            "Fizzbuzz 30\n",
            "31\n",
            "32\n",
            "Fizz 33\n",
            "34\n",
            "Buzz\n",
            "Fizz 36\n",
            "37\n",
            "38\n",
            "Fizz 39\n",
            "Buzz\n",
            "41\n",
            "Fizz 42\n",
            "43\n",
            "44\n",
            "Fizzbuzz 45\n",
            "46\n",
            "47\n",
            "Fizz 48\n",
            "49\n",
            "Buzz\n",
            "Fizz 51\n",
            "52\n",
            "53\n",
            "Fizz 54\n",
            "Buzz\n",
            "56\n",
            "Fizz 57\n",
            "58\n",
            "59\n",
            "Fizzbuzz 60\n",
            "61\n",
            "62\n",
            "Fizz 63\n",
            "64\n",
            "Buzz\n",
            "Fizz 66\n",
            "67\n",
            "68\n",
            "Fizz 69\n",
            "Buzz\n",
            "71\n",
            "Fizz 72\n",
            "73\n",
            "74\n",
            "Fizzbuzz 75\n",
            "76\n",
            "77\n",
            "Fizz 78\n",
            "79\n",
            "Buzz\n",
            "Fizz 81\n",
            "82\n",
            "83\n",
            "Fizz 84\n",
            "Buzz\n",
            "86\n",
            "Fizz 87\n",
            "88\n",
            "89\n",
            "Fizzbuzz 90\n",
            "91\n",
            "92\n",
            "Fizz 93\n",
            "94\n",
            "Buzz\n",
            "Fizz 96\n",
            "97\n",
            "98\n",
            "Fizz 99\n",
            "Buzz\n"
          ],
          "name": "stdout"
        }
      ]
    },
    {
      "cell_type": "code",
      "metadata": {
        "id": "hEddL0-eyDcj",
        "colab_type": "code",
        "colab": {}
      },
      "source": [
        ""
      ],
      "execution_count": 0,
      "outputs": []
    },
    {
      "cell_type": "code",
      "metadata": {
        "id": "-GciFlPfybqS",
        "colab_type": "code",
        "colab": {}
      },
      "source": [
        ""
      ],
      "execution_count": 0,
      "outputs": []
    }
  ]
}
